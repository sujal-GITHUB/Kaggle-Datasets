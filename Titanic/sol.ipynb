{
 "cells": [
  {
   "cell_type": "code",
   "execution_count": 1,
   "metadata": {},
   "outputs": [],
   "source": [
    "import pandas as pd\n",
    "import matplotlib.pyplot as plt\n",
    "import numpy as np "
   ]
  },
  {
   "cell_type": "code",
   "execution_count": 2,
   "metadata": {},
   "outputs": [],
   "source": [
    "dataset = pd.read_csv('train.csv')\n",
    "selected_columns = ['PassengerId','Pclass','Embarked','Sex', 'Age', 'SibSp', 'Parch', 'Fare']\n",
    "x = dataset[selected_columns]\n",
    "y = dataset.iloc[:,1]"
   ]
  },
  {
   "cell_type": "code",
   "execution_count": 3,
   "metadata": {},
   "outputs": [],
   "source": [
    "data = pd.read_csv('test.csv')\n",
    "columns = ['PassengerId','Pclass','Embarked','Sex','Age','SibSp','Parch','Fare',]\n",
    "x_test = data[columns]"
   ]
  },
  {
   "cell_type": "code",
   "execution_count": 5,
   "metadata": {},
   "outputs": [
    {
     "name": "stdout",
     "output_type": "stream",
     "text": [
      "<class 'pandas.core.frame.DataFrame'>\n",
      "RangeIndex: 418 entries, 0 to 417\n",
      "Data columns (total 8 columns):\n",
      " #   Column       Non-Null Count  Dtype  \n",
      "---  ------       --------------  -----  \n",
      " 0   PassengerId  418 non-null    int64  \n",
      " 1   Pclass       418 non-null    int64  \n",
      " 2   Embarked     418 non-null    object \n",
      " 3   Sex          418 non-null    object \n",
      " 4   Age          332 non-null    float64\n",
      " 5   SibSp        418 non-null    int64  \n",
      " 6   Parch        418 non-null    int64  \n",
      " 7   Fare         417 non-null    float64\n",
      "dtypes: float64(2), int64(4), object(2)\n",
      "memory usage: 26.3+ KB\n",
      "None\n"
     ]
    }
   ],
   "source": [
    "print(x_test.info())"
   ]
  },
  {
   "cell_type": "code",
   "execution_count": 6,
   "metadata": {},
   "outputs": [
    {
     "name": "stdout",
     "output_type": "stream",
     "text": [
      "<class 'pandas.core.frame.DataFrame'>\n",
      "RangeIndex: 891 entries, 0 to 890\n",
      "Data columns (total 8 columns):\n",
      " #   Column       Non-Null Count  Dtype  \n",
      "---  ------       --------------  -----  \n",
      " 0   PassengerId  891 non-null    int64  \n",
      " 1   Pclass       891 non-null    int64  \n",
      " 2   Embarked     889 non-null    object \n",
      " 3   Sex          891 non-null    object \n",
      " 4   Age          714 non-null    float64\n",
      " 5   SibSp        891 non-null    int64  \n",
      " 6   Parch        891 non-null    int64  \n",
      " 7   Fare         891 non-null    float64\n",
      "dtypes: float64(2), int64(4), object(2)\n",
      "memory usage: 55.8+ KB\n",
      "None\n"
     ]
    }
   ],
   "source": [
    "print(x.info())"
   ]
  },
  {
   "cell_type": "code",
   "execution_count": 8,
   "metadata": {},
   "outputs": [
    {
     "name": "stdout",
     "output_type": "stream",
     "text": [
      "<class 'pandas.core.series.Series'>\n",
      "RangeIndex: 891 entries, 0 to 890\n",
      "Series name: Survived\n",
      "Non-Null Count  Dtype\n",
      "--------------  -----\n",
      "891 non-null    int64\n",
      "dtypes: int64(1)\n",
      "memory usage: 7.1 KB\n",
      "None\n"
     ]
    }
   ],
   "source": [
    "print(y.info())"
   ]
  },
  {
   "cell_type": "markdown",
   "metadata": {},
   "source": [
    "Missing data handle"
   ]
  },
  {
   "cell_type": "code",
   "execution_count": 13,
   "metadata": {},
   "outputs": [],
   "source": [
    "mean_age = x['Age'].mean()\n",
    "mean_1 = x_test['Age'].mean()\n",
    "mean_2 = x_test['Fare'].mean()\n",
    "\n",
    "floored_mean_age = np.floor(mean_age)\n",
    "floored_1 = np.floor(mean_1)\n",
    "floored_2 = np.floor(mean_2)\n",
    "\n",
    "x.loc[:, 'Age'] = x['Age'].fillna(floored_mean_age)\n",
    "x_test.loc[:, 'Age'] = x_test['Age'].fillna(floored_1)\n",
    "x_test.loc[:, 'Fare'] = x_test['Fare'].fillna(floored_2)\n"
   ]
  },
  {
   "cell_type": "code",
   "execution_count": 14,
   "metadata": {},
   "outputs": [
    {
     "name": "stdout",
     "output_type": "stream",
     "text": [
      "     PassengerId  Pclass Embarked     Sex   Age  SibSp  Parch     Fare\n",
      "0              1       3        S    male  22.0      1      0   7.2500\n",
      "1              2       1        C  female  38.0      1      0  71.2833\n",
      "2              3       3        S  female  26.0      0      0   7.9250\n",
      "3              4       1        S  female  35.0      1      0  53.1000\n",
      "4              5       3        S    male  35.0      0      0   8.0500\n",
      "..           ...     ...      ...     ...   ...    ...    ...      ...\n",
      "886          887       2        S    male  27.0      0      0  13.0000\n",
      "887          888       1        S  female  19.0      0      0  30.0000\n",
      "888          889       3        S  female  29.0      1      2  23.4500\n",
      "889          890       1        C    male  26.0      0      0  30.0000\n",
      "890          891       3        Q    male  32.0      0      0   7.7500\n",
      "\n",
      "[891 rows x 8 columns]\n",
      "     PassengerId  Pclass Embarked     Sex   Age  SibSp  Parch      Fare\n",
      "0            892       3        Q    male  34.5      0      0    7.8292\n",
      "1            893       3        S  female  47.0      1      0    7.0000\n",
      "2            894       2        Q    male  62.0      0      0    9.6875\n",
      "3            895       3        S    male  27.0      0      0    8.6625\n",
      "4            896       3        S  female  22.0      1      1   12.2875\n",
      "..           ...     ...      ...     ...   ...    ...    ...       ...\n",
      "413         1305       3        S    male  30.0      0      0    8.0500\n",
      "414         1306       1        C  female  39.0      0      0  108.9000\n",
      "415         1307       3        S    male  38.5      0      0    7.2500\n",
      "416         1308       3        S    male  30.0      0      0    8.0500\n",
      "417         1309       3        C    male  30.0      1      1   22.3583\n",
      "\n",
      "[418 rows x 8 columns]\n"
     ]
    }
   ],
   "source": [
    "print(x)\n",
    "print(x_test)"
   ]
  },
  {
   "cell_type": "code",
   "execution_count": 15,
   "metadata": {},
   "outputs": [],
   "source": [
    "x = x.to_numpy()"
   ]
  },
  {
   "cell_type": "code",
   "execution_count": 16,
   "metadata": {},
   "outputs": [],
   "source": [
    "x_test = x_test.to_numpy()"
   ]
  },
  {
   "cell_type": "code",
   "execution_count": 17,
   "metadata": {},
   "outputs": [
    {
     "name": "stdout",
     "output_type": "stream",
     "text": [
      "[[1 3 'S' ... 1 0 7.25]\n",
      " [2 1 'C' ... 1 0 71.2833]\n",
      " [3 3 'S' ... 0 0 7.925]\n",
      " ...\n",
      " [889 3 'S' ... 1 2 23.45]\n",
      " [890 1 'C' ... 0 0 30.0]\n",
      " [891 3 'Q' ... 0 0 7.75]]\n"
     ]
    }
   ],
   "source": [
    "print(x)"
   ]
  },
  {
   "cell_type": "code",
   "execution_count": 18,
   "metadata": {},
   "outputs": [],
   "source": [
    "from sklearn.compose import ColumnTransformer\n",
    "from sklearn.preprocessing import OneHotEncoder\n",
    "ct = ColumnTransformer(transformers=[('encoder', OneHotEncoder(), [2,3])], remainder='passthrough')\n",
    "x = np.array(ct.fit_transform(x))\n",
    "x_test = np.array(ct.transform(x_test))"
   ]
  },
  {
   "cell_type": "code",
   "execution_count": 19,
   "metadata": {},
   "outputs": [
    {
     "name": "stdout",
     "output_type": "stream",
     "text": [
      "[[0.0 0.0 1.0 ... 1 0 7.25]\n",
      " [1.0 0.0 0.0 ... 1 0 71.2833]\n",
      " [0.0 0.0 1.0 ... 0 0 7.925]\n",
      " ...\n",
      " [0.0 0.0 1.0 ... 1 2 23.45]\n",
      " [1.0 0.0 0.0 ... 0 0 30.0]\n",
      " [0.0 1.0 0.0 ... 0 0 7.75]]\n",
      "[[0.0 1.0 0.0 ... 0 0 7.8292]\n",
      " [0.0 0.0 1.0 ... 1 0 7.0]\n",
      " [0.0 1.0 0.0 ... 0 0 9.6875]\n",
      " ...\n",
      " [0.0 0.0 1.0 ... 0 0 7.25]\n",
      " [0.0 0.0 1.0 ... 0 0 8.05]\n",
      " [1.0 0.0 0.0 ... 1 1 22.3583]]\n"
     ]
    }
   ],
   "source": [
    "print(x)\n",
    "print(x_test)"
   ]
  },
  {
   "cell_type": "code",
   "execution_count": 20,
   "metadata": {},
   "outputs": [],
   "source": [
    "x_df = pd.DataFrame(x)\n",
    "x_df.to_csv('transformed_data.csv', index=False)"
   ]
  },
  {
   "cell_type": "code",
   "execution_count": 21,
   "metadata": {},
   "outputs": [
    {
     "name": "stdout",
     "output_type": "stream",
     "text": [
      "    0    1    2    3    4    5  6  7     8  9  10       11\n",
      "0  0.0  0.0  1.0  0.0  0.0  1.0  1  3  22.0  1  0     7.25\n",
      "1  1.0  0.0  0.0  0.0  1.0  0.0  2  1  38.0  1  0  71.2833\n",
      "2  0.0  0.0  1.0  0.0  1.0  0.0  3  3  26.0  0  0    7.925\n",
      "3  0.0  0.0  1.0  0.0  1.0  0.0  4  1  35.0  1  0     53.1\n",
      "4  0.0  0.0  1.0  0.0  0.0  1.0  5  3  35.0  0  0     8.05\n"
     ]
    }
   ],
   "source": [
    "print(x_df.head())"
   ]
  },
  {
   "cell_type": "code",
   "execution_count": 49,
   "metadata": {},
   "outputs": [],
   "source": [
    "from sklearn.linear_model import LogisticRegression\n",
    "from sklearn.tree import DecisionTreeClassifier\n",
    "from sklearn.neighbors import KNeighborsClassifier\n",
    "from sklearn.svm import SVC\n",
    "from sklearn.ensemble import RandomForestClassifier, GradientBoostingClassifier\n",
    "from sklearn.pipeline import Pipeline\n",
    "from sklearn.metrics import accuracy_score, classification_report, confusion_matrix, roc_auc_score, roc_curve\n"
   ]
  },
  {
   "cell_type": "code",
   "execution_count": 44,
   "metadata": {},
   "outputs": [],
   "source": [
    "# Define classifiers and pipelines\n",
    "classifiers = {\n",
    "    'Logistic Regression': LogisticRegression(max_iter=1000),\n",
    "    'Random Forest': RandomForestClassifier(n_estimators=100, max_depth=5, random_state=42),\n",
    "    'Support Vector Machine': SVC(probability=True, random_state=42),\n",
    "    'K-Nearest Neighbors': KNeighborsClassifier(),\n",
    "    'Decision Tree': DecisionTreeClassifier(random_state=42),\n",
    "    'Gradient Boosting': GradientBoostingClassifier(n_estimators=100, random_state=42)\n",
    "}"
   ]
  },
  {
   "cell_type": "code",
   "execution_count": 46,
   "metadata": {},
   "outputs": [],
   "source": [
    "from sklearn.model_selection import train_test_split\n",
    "x_train, X_test, y_train, Y_test = train_test_split(x, y, test_size=0.2, random_state=42)"
   ]
  },
  {
   "cell_type": "code",
   "execution_count": 54,
   "metadata": {},
   "outputs": [
    {
     "name": "stderr",
     "output_type": "stream",
     "text": [
      "d:\\Python\\Lib\\site-packages\\sklearn\\linear_model\\_logistic.py:469: ConvergenceWarning: lbfgs failed to converge (status=1):\n",
      "STOP: TOTAL NO. of ITERATIONS REACHED LIMIT.\n",
      "\n",
      "Increase the number of iterations (max_iter) or scale the data as shown in:\n",
      "    https://scikit-learn.org/stable/modules/preprocessing.html\n",
      "Please also refer to the documentation for alternative solver options:\n",
      "    https://scikit-learn.org/stable/modules/linear_model.html#logistic-regression\n",
      "  n_iter_i = _check_optimize_result(\n"
     ]
    },
    {
     "name": "stdout",
     "output_type": "stream",
     "text": [
      "Logistic Regression: Accuracy = 0.8045, ROC AUC = 0.7954\n",
      "Random Forest: Accuracy = 0.8101, ROC AUC = 0.7942\n",
      "Support Vector Machine: Accuracy = 0.5978, ROC AUC = 0.5175\n",
      "K-Nearest Neighbors: Accuracy = 0.6648, ROC AUC = 0.6265\n",
      "Decision Tree: Accuracy = 0.7765, ROC AUC = 0.7656\n",
      "Gradient Boosting: Accuracy = 0.8212, ROC AUC = 0.8097\n"
     ]
    }
   ],
   "source": [
    "metrics = {}\n",
    "for name, model in classifiers.items():\n",
    "    model.fit(x_train, y_train)\n",
    "    y_pred = model.predict(X_test)\n",
    "    accuracy = accuracy_score(Y_test, y_pred)\n",
    "    roc_auc = roc_auc_score(Y_test, y_pred)\n",
    "    \n",
    "    metrics[name] = {'accuracy': accuracy, 'roc_auc': roc_auc}\n",
    "    print(f'{name}: Accuracy = {accuracy:.4f}, ROC AUC = {roc_auc:.4f}')"
   ]
  },
  {
   "cell_type": "code",
   "execution_count": 55,
   "metadata": {},
   "outputs": [
    {
     "name": "stdout",
     "output_type": "stream",
     "text": [
      "The best model is Gradient Boosting with Accuracy = 0.8212 and ROC AUC = 0.8097\n"
     ]
    }
   ],
   "source": [
    "best_model_name = max(metrics, key=lambda k: (metrics[k]['accuracy'], metrics[k]['roc_auc']))\n",
    "classifier = classifiers[best_model_name]\n",
    "print(f'The best model is {best_model_name} with Accuracy = {metrics[best_model_name][\"accuracy\"]:.4f} and ROC AUC = {metrics[best_model_name][\"roc_auc\"]:.4f}')"
   ]
  },
  {
   "cell_type": "code",
   "execution_count": 23,
   "metadata": {},
   "outputs": [],
   "source": [
    "x_test_df = pd.DataFrame(x_test)"
   ]
  },
  {
   "cell_type": "code",
   "execution_count": 24,
   "metadata": {},
   "outputs": [
    {
     "name": "stdout",
     "output_type": "stream",
     "text": [
      "      0    1    2    3    4    5     6  7     8  9  10       11\n",
      "0    0.0  1.0  0.0  0.0  0.0  1.0   892  3  34.5  0  0   7.8292\n",
      "1    0.0  0.0  1.0  0.0  1.0  0.0   893  3  47.0  1  0      7.0\n",
      "2    0.0  1.0  0.0  0.0  0.0  1.0   894  2  62.0  0  0   9.6875\n",
      "3    0.0  0.0  1.0  0.0  0.0  1.0   895  3  27.0  0  0   8.6625\n",
      "4    0.0  0.0  1.0  0.0  1.0  0.0   896  3  22.0  1  1  12.2875\n",
      "..   ...  ...  ...  ...  ...  ...   ... ..   ... .. ..      ...\n",
      "413  0.0  0.0  1.0  0.0  0.0  1.0  1305  3  30.0  0  0     8.05\n",
      "414  1.0  0.0  0.0  0.0  1.0  0.0  1306  1  39.0  0  0    108.9\n",
      "415  0.0  0.0  1.0  0.0  0.0  1.0  1307  3  38.5  0  0     7.25\n",
      "416  0.0  0.0  1.0  0.0  0.0  1.0  1308  3  30.0  0  0     8.05\n",
      "417  1.0  0.0  0.0  0.0  0.0  1.0  1309  3  30.0  1  1  22.3583\n",
      "\n",
      "[418 rows x 12 columns]\n"
     ]
    }
   ],
   "source": [
    "print(x_test_df)"
   ]
  },
  {
   "cell_type": "code",
   "execution_count": 25,
   "metadata": {},
   "outputs": [
    {
     "name": "stdout",
     "output_type": "stream",
     "text": [
      "<class 'pandas.core.frame.DataFrame'>\n",
      "RangeIndex: 418 entries, 0 to 417\n",
      "Data columns (total 12 columns):\n",
      " #   Column  Non-Null Count  Dtype \n",
      "---  ------  --------------  ----- \n",
      " 0   0       418 non-null    object\n",
      " 1   1       418 non-null    object\n",
      " 2   2       418 non-null    object\n",
      " 3   3       418 non-null    object\n",
      " 4   4       418 non-null    object\n",
      " 5   5       418 non-null    object\n",
      " 6   6       418 non-null    object\n",
      " 7   7       418 non-null    object\n",
      " 8   8       418 non-null    object\n",
      " 9   9       418 non-null    object\n",
      " 10  10      418 non-null    object\n",
      " 11  11      418 non-null    object\n",
      "dtypes: object(12)\n",
      "memory usage: 39.3+ KB\n"
     ]
    }
   ],
   "source": [
    "x_test_df.info()"
   ]
  },
  {
   "cell_type": "code",
   "execution_count": 56,
   "metadata": {},
   "outputs": [],
   "source": [
    "predictions = classifier.predict(x_test)"
   ]
  },
  {
   "cell_type": "code",
   "execution_count": 57,
   "metadata": {},
   "outputs": [],
   "source": [
    "predictions = np.round(predictions).astype(int)"
   ]
  },
  {
   "cell_type": "code",
   "execution_count": 58,
   "metadata": {},
   "outputs": [
    {
     "name": "stdout",
     "output_type": "stream",
     "text": [
      "[[0.0 0.0 1.0 ... 1 0 7.25]\n",
      " [1.0 0.0 0.0 ... 1 0 71.2833]\n",
      " [0.0 0.0 1.0 ... 0 0 7.925]\n",
      " ...\n",
      " [0.0 0.0 1.0 ... 1 2 23.45]\n",
      " [1.0 0.0 0.0 ... 0 0 30.0]\n",
      " [0.0 1.0 0.0 ... 0 0 7.75]]\n"
     ]
    }
   ],
   "source": [
    "print(x)"
   ]
  },
  {
   "cell_type": "code",
   "execution_count": 59,
   "metadata": {},
   "outputs": [
    {
     "name": "stdout",
     "output_type": "stream",
     "text": [
      "    0    1    2    3    4    5    6  7     8  9  10       11\n",
      "0  0.0  1.0  0.0  0.0  0.0  1.0  892  3  34.5  0  0   7.8292\n",
      "1  0.0  0.0  1.0  0.0  1.0  0.0  893  3  47.0  1  0      7.0\n",
      "2  0.0  1.0  0.0  0.0  0.0  1.0  894  2  62.0  0  0   9.6875\n",
      "3  0.0  0.0  1.0  0.0  0.0  1.0  895  3  27.0  0  0   8.6625\n",
      "4  0.0  0.0  1.0  0.0  1.0  0.0  896  3  22.0  1  1  12.2875\n"
     ]
    }
   ],
   "source": [
    "print(x_test_df.head())"
   ]
  },
  {
   "cell_type": "code",
   "execution_count": 60,
   "metadata": {},
   "outputs": [],
   "source": [
    "passenger_ids = x_test[:,6]"
   ]
  },
  {
   "cell_type": "code",
   "execution_count": 61,
   "metadata": {},
   "outputs": [],
   "source": [
    "submission_df = pd.DataFrame({\n",
    "    'Passenger Id': passenger_ids,\n",
    "    'Survived': predictions\n",
    "})\n",
    "\n",
    "# Step 3: Save to CSV\n",
    "submission_df.to_csv('submission2.csv', index=False)"
   ]
  },
  {
   "cell_type": "code",
   "execution_count": null,
   "metadata": {},
   "outputs": [],
   "source": []
  }
 ],
 "metadata": {
  "kernelspec": {
   "display_name": "Python 3",
   "language": "python",
   "name": "python3"
  },
  "language_info": {
   "codemirror_mode": {
    "name": "ipython",
    "version": 3
   },
   "file_extension": ".py",
   "mimetype": "text/x-python",
   "name": "python",
   "nbconvert_exporter": "python",
   "pygments_lexer": "ipython3",
   "version": "3.12.4"
  }
 },
 "nbformat": 4,
 "nbformat_minor": 2
}
